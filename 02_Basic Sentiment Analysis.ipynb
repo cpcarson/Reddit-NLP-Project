{
 "cells": [
  {
   "cell_type": "markdown",
   "metadata": {},
   "source": [
    "# Sentiment Analysis"
   ]
  },
  {
   "cell_type": "markdown",
   "metadata": {},
   "source": [
    "The purpose of this section is to glean some preliminary insights from the data. I am investigating whether the two subreddits distinctly differ in their usage of extreme language, represented here by the use of **superlatives**. The idea is that the more superlatives used, the more polarizing or extreme the language is. "
   ]
  },
  {
   "cell_type": "markdown",
   "metadata": {},
   "source": [
    "After analyzing superlative usage, I will then look at the rate of **positive and negative word usage**. The metric for positive or negative language is usually dependent on context, but here I will just be using a \"bag of words\" analysis that simply counts the occurance of a predefined set of negative and positive words."
   ]
  },
  {
   "cell_type": "markdown",
   "metadata": {},
   "source": [
    "## Superlative Sentiment Analysis"
   ]
  },
  {
   "cell_type": "code",
   "execution_count": 1,
   "metadata": {},
   "outputs": [],
   "source": [
    "import pandas as pd\n",
    "import requests\n",
    "import time\n",
    "import numpy as np\n",
    "from bs4 import BeautifulSoup\n",
    "\n",
    "from nltk.tokenize import RegexpTokenizer"
   ]
  },
  {
   "cell_type": "code",
   "execution_count": 2,
   "metadata": {},
   "outputs": [],
   "source": [
    "# A function to convert the comments into one list of tokenized words\n",
    "\n",
    "def convert_to_tokens(series):\n",
    "    ls = series.tolist()\n",
    "    lower_ls = [i.lower() for i in ls]\n",
    "    lists_of_words = [RegexpTokenizer('[a-z]\\w+').tokenize(i) for i in lower_ls]\n",
    "    big_list = []\n",
    "    for chunk in lists_of_words:\n",
    "        big_list += chunk\n",
    "    return big_list"
   ]
  },
  {
   "cell_type": "code",
   "execution_count": 3,
   "metadata": {},
   "outputs": [],
   "source": [
    "# Scraping a list of superlatives from the internet\n",
    "\n",
    "df_superlatives = pd.read_html(\n",
    "    'https://www.easypacelearning.com/all-lessons/grammar/1436-comparative-superlative-adjectives-list-from-a-to-z')"
   ]
  },
  {
   "cell_type": "code",
   "execution_count": 4,
   "metadata": {},
   "outputs": [],
   "source": [
    "# Creating the superlatives words list\n",
    "\n",
    "df_superlatives = df_superlatives[0]\n",
    "\n",
    "superlatives = list(df_superlatives[2][1:])"
   ]
  },
  {
   "cell_type": "code",
   "execution_count": 5,
   "metadata": {},
   "outputs": [],
   "source": [
    "# adding superlative modifiers to the list\n",
    "\n",
    "superlatives.append(['least', 'most'])"
   ]
  },
  {
   "cell_type": "markdown",
   "metadata": {},
   "source": [
    "### Conservative Subreddit Superlative Analysis"
   ]
  },
  {
   "cell_type": "code",
   "execution_count": 8,
   "metadata": {},
   "outputs": [],
   "source": [
    "df_con = pd.read_csv('./data/df_con.csv')"
   ]
  },
  {
   "cell_type": "code",
   "execution_count": 10,
   "metadata": {},
   "outputs": [],
   "source": [
    "# Calling the tokenizing function on the comments to create a 'bag of words'\n",
    "\n",
    "con_words = convert_to_tokens(df_con['body'])"
   ]
  },
  {
   "cell_type": "code",
   "execution_count": 21,
   "metadata": {},
   "outputs": [
    {
     "name": "stdout",
     "output_type": "stream",
     "text": [
      "Total number of superlatives used: 821\n",
      "Rate of superlative use: 0.121%\n"
     ]
    }
   ],
   "source": [
    "# Calculating number of occurances of our scraped superlatives in the subreddit comments\n",
    "\n",
    "con_superlatives = [w for w in con_words if w in superlatives]\n",
    "print(f'Total number of superlatives used: {len(con_superlatives)}')\n",
    "\n",
    "# Rate of superlative use in Conservative subreddit comments\n",
    "\n",
    "print(\n",
    "    f'Rate of superlative use: {round(((len(con_superlatives) / len(con_words))*100), 3)}%')"
   ]
  },
  {
   "cell_type": "markdown",
   "metadata": {},
   "source": [
    "### Socialism Subreddit Superlative Analysis"
   ]
  },
  {
   "cell_type": "code",
   "execution_count": 23,
   "metadata": {},
   "outputs": [],
   "source": [
    "df_lib = pd.read_csv('./data/df_lib.csv')"
   ]
  },
  {
   "cell_type": "code",
   "execution_count": 25,
   "metadata": {},
   "outputs": [],
   "source": [
    "# Calling the tokenizing function on the comments to create a 'bag of words'\n",
    "\n",
    "lib_words = convert_to_tokens(df_lib['body'])"
   ]
  },
  {
   "cell_type": "code",
   "execution_count": 26,
   "metadata": {},
   "outputs": [
    {
     "data": {
      "text/plain": [
       "844"
      ]
     },
     "execution_count": 26,
     "metadata": {},
     "output_type": "execute_result"
    }
   ],
   "source": [
    "# Calculating number of occurances of our scraped superlatives in the subreddit comments\n",
    "\n",
    "lib_superlatives = [w for w in lib_words if w in superlatives]\n",
    "\n",
    "len(lib_superlatives)"
   ]
  },
  {
   "cell_type": "code",
   "execution_count": 29,
   "metadata": {},
   "outputs": [
    {
     "name": "stdout",
     "output_type": "stream",
     "text": [
      "Total number of superlatives used: 844\n",
      "Rate of superlative use: 0.117%\n"
     ]
    }
   ],
   "source": [
    "# Calculating number of occurances of our scraped superlatives in the subreddit comments\n",
    "\n",
    "lib_superlatives = [w for w in lib_words if w in superlatives]\n",
    "\n",
    "print(f'Total number of superlatives used: {len(lib_superlatives)}')\n",
    "\n",
    "# Rate of superlative use in Socialism subreddit comments\n",
    "\n",
    "print(\n",
    "    f'Rate of superlative use: {round(((len(lib_superlatives) / len(lib_words))*100), 3)}%')"
   ]
  },
  {
   "cell_type": "markdown",
   "metadata": {},
   "source": [
    "### Conclusion on Superlative Analysis"
   ]
  },
  {
   "cell_type": "markdown",
   "metadata": {},
   "source": [
    "The rates of superlative use are very similar for both subreddits, with 'r/conservatives' using slightly more, by a margin of .004%, or 4 more superlatives per 100,000 words"
   ]
  },
  {
   "cell_type": "markdown",
   "metadata": {},
   "source": [
    "## Positive/Negative Sentiment Analysis"
   ]
  },
  {
   "cell_type": "code",
   "execution_count": 30,
   "metadata": {},
   "outputs": [],
   "source": [
    "# Scraping to create a list of positive words\n",
    "\n",
    "positive_words_url = 'http://www.creativeaffirmations.com/positive-words.html'\n",
    "pos_res = requests.get(positive_words_url)\n",
    "positive_soup = BeautifulSoup(pos_res.content, 'lxml')"
   ]
  },
  {
   "cell_type": "code",
   "execution_count": 31,
   "metadata": {},
   "outputs": [],
   "source": [
    "# Isolating the body of positive words\n",
    "\n",
    "table = positive_soup.find('table', {'cellpadding' : '2'})"
   ]
  },
  {
   "cell_type": "code",
   "execution_count": 32,
   "metadata": {},
   "outputs": [],
   "source": [
    "# Creating a list of positive words from a table scrape\n",
    "\n",
    "positive_words = [i.text.lower() for i in table.find_all('td')]"
   ]
  },
  {
   "cell_type": "code",
   "execution_count": 33,
   "metadata": {},
   "outputs": [
    {
     "data": {
      "text/plain": [
       "True"
      ]
     },
     "execution_count": 33,
     "metadata": {},
     "output_type": "execute_result"
    }
   ],
   "source": [
    "\"party\" in positive_words"
   ]
  },
  {
   "cell_type": "code",
   "execution_count": 34,
   "metadata": {},
   "outputs": [
    {
     "data": {
      "text/plain": [
       "True"
      ]
     },
     "execution_count": 34,
     "metadata": {},
     "output_type": "execute_result"
    }
   ],
   "source": [
    "\"leader\" in positive_words"
   ]
  },
  {
   "cell_type": "code",
   "execution_count": 35,
   "metadata": {},
   "outputs": [],
   "source": [
    "positive_words.remove('leader')\n",
    "positive_words.remove('party')"
   ]
  },
  {
   "cell_type": "markdown",
   "metadata": {},
   "source": [
    "I am removing these words because they may come up often, but in either a positive or negative political sense depending on context. I think that including them in the positive words list would be a mistake that could throw off the results."
   ]
  },
  {
   "cell_type": "code",
   "execution_count": 36,
   "metadata": {},
   "outputs": [],
   "source": [
    "# Scraping to create a list of negative words\n",
    "\n",
    "negative_words_url = \"https://www.enchantedlearning.com/wordlist/negativewords.shtml\"\n",
    "neg_res = requests.get(negative_words_url)\n",
    "negative_soup = BeautifulSoup(neg_res.content, 'lxml')\n",
    "neg_table = negative_soup.find_all('div', {'class' : 'wordlist-item'})"
   ]
  },
  {
   "cell_type": "code",
   "execution_count": 37,
   "metadata": {},
   "outputs": [],
   "source": [
    "# Creating a list of negative words from a table scrape\n",
    "\n",
    "negative_words = [i.text for i in neg_table]"
   ]
  },
  {
   "cell_type": "code",
   "execution_count": 38,
   "metadata": {},
   "outputs": [
    {
     "name": "stdout",
     "output_type": "stream",
     "text": [
      "Rate of positive words in r/socialism: \n",
      "    3.4%\n",
      "Rate of positive words in r/conservatives:\n",
      "    3.27%\n",
      "Rate of negative words in r/socialism:\n",
      "    1.88%\n",
      "Rate of negative words in r/conservatives:\n",
      "    2.19%\n"
     ]
    }
   ],
   "source": [
    "# Counting the frequency with which positive or negative words\n",
    "# show up in the two different subreddit's comments\n",
    "\n",
    "lib_positive = [w for w in lib_words if w in positive_words]\n",
    "con_positive = [w for w in con_words if w in positive_words]\n",
    "\n",
    "lib_negative = [w for w in lib_words if w in negative_words]\n",
    "con_negative = [w for w in con_words if w in negative_words]\n",
    "\n",
    "print(\n",
    "    f'''Rate of positive words in r/socialism: \n",
    "    {round((len(lib_positive) / len(lib_words) *100), 2)}%''')\n",
    "print(\n",
    "    f'''Rate of positive words in r/conservatives:\n",
    "    {round((len(con_positive)/ len(con_words)*100), 2)}%''')\n",
    "print(\n",
    "    f'''Rate of negative words in r/socialism:\n",
    "    {round((len(lib_negative)/len(lib_words)*100), 2)}%''')\n",
    "print(\n",
    "    f'''Rate of negative words in r/conservatives:\n",
    "    {round((len(con_negative)/len(con_words)*100), 2)}%''')"
   ]
  },
  {
   "cell_type": "markdown",
   "metadata": {},
   "source": [
    "### Positive/Negative Sentiment Conclusion"
   ]
  },
  {
   "cell_type": "markdown",
   "metadata": {},
   "source": [
    "The rates of us for both positive and negative words for each subreddit are similar. The subreddit \"r/socialism\" has a slightly higher rate of positive word usage than \"r/conservatives\", with a margin of 0.13%. It also has a lower rate of negative word usage, with a margin of -0.31%.\n",
    "\n",
    "The only result that I would conclude shows a potential for actual difference in the language of the two subredits is the margin of difference in negative word usage, although a rate of three tenths of a percent is very low. "
   ]
  }
 ],
 "metadata": {
  "kernelspec": {
   "display_name": "Python [conda env:dsi] *",
   "language": "python",
   "name": "conda-env-dsi-py"
  },
  "language_info": {
   "codemirror_mode": {
    "name": "ipython",
    "version": 3
   },
   "file_extension": ".py",
   "mimetype": "text/x-python",
   "name": "python",
   "nbconvert_exporter": "python",
   "pygments_lexer": "ipython3",
   "version": "3.7.6"
  },
  "varInspector": {
   "cols": {
    "lenName": 16,
    "lenType": 16,
    "lenVar": 40
   },
   "kernels_config": {
    "python": {
     "delete_cmd_postfix": "",
     "delete_cmd_prefix": "del ",
     "library": "var_list.py",
     "varRefreshCmd": "print(var_dic_list())"
    },
    "r": {
     "delete_cmd_postfix": ") ",
     "delete_cmd_prefix": "rm(",
     "library": "var_list.r",
     "varRefreshCmd": "cat(var_dic_list()) "
    }
   },
   "types_to_exclude": [
    "module",
    "function",
    "builtin_function_or_method",
    "instance",
    "_Feature"
   ],
   "window_display": false
  }
 },
 "nbformat": 4,
 "nbformat_minor": 4
}
